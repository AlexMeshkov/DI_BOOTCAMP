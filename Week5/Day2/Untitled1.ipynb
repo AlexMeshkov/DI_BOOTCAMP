{
 "cells": [
  {
   "cell_type": "code",
   "execution_count": 1,
   "id": "664731c2-d524-4f03-92a8-f2ee060ee8ad",
   "metadata": {},
   "outputs": [],
   "source": [
    "import pandas as pd"
   ]
  },
  {
   "cell_type": "code",
   "execution_count": 2,
   "id": "7dcd1af8-7987-4770-8c4d-1938934a41fc",
   "metadata": {},
   "outputs": [],
   "source": [
    "import numpy as np"
   ]
  },
  {
   "cell_type": "markdown",
   "id": "cfc17210-7946-440a-9db4-ae24644d107c",
   "metadata": {},
   "source": [
    "READ THE DATAFRAME"
   ]
  },
  {
   "cell_type": "code",
   "execution_count": 3,
   "id": "358928b3-1123-4ab6-ba5e-f6c5bff65d25",
   "metadata": {},
   "outputs": [],
   "source": [
    "# Sample DataFrame\n",
    "df = pd.DataFrame({\n",
    "    \"Name\": [\"Alice\", \"Bob\", \"Charlie\", \"David\", \"Eve\"],\n",
    "    \"Age\": [25, 32, 22, 35, 47],\n",
    "    \"Score\": [85, 63, 77, 96, 54]\n",
    "})\n",
    "\n"
   ]
  },
  {
   "cell_type": "code",
   "execution_count": 4,
   "id": "dff77403-4cd0-4e67-861a-57a6711cb468",
   "metadata": {},
   "outputs": [
    {
     "name": "stdout",
     "output_type": "stream",
     "text": [
      "      Name  Age  Score\n",
      "0    Alice   25     85\n",
      "1      Bob   32     63\n",
      "2  Charlie   22     77\n"
     ]
    }
   ],
   "source": [
    "# Head\n",
    "# Returns the first 3 rows of the DataFrame\n",
    "\n",
    "print(df.head(3))  \n",
    "\n"
   ]
  },
  {
   "cell_type": "code",
   "execution_count": 5,
   "id": "40111465-bb36-4494-87a5-6daccd4ed221",
   "metadata": {},
   "outputs": [
    {
     "name": "stdout",
     "output_type": "stream",
     "text": [
      "      Name  Age  Score\n",
      "2  Charlie   22     77\n",
      "3    David   35     96\n",
      "4      Eve   47     54\n"
     ]
    }
   ],
   "source": [
    "# Tail\n",
    "# Returns the last 3 rows of the DataFrame\n",
    "\n",
    "print(df.tail(3))  \n",
    "\n"
   ]
  },
  {
   "cell_type": "code",
   "execution_count": 6,
   "id": "d9e52db0-0dfd-4037-aff4-0ceb32ac9219",
   "metadata": {},
   "outputs": [
    {
     "name": "stdout",
     "output_type": "stream",
     "text": [
      "<class 'pandas.core.frame.DataFrame'>\n",
      "RangeIndex: 5 entries, 0 to 4\n",
      "Data columns (total 3 columns):\n",
      " #   Column  Non-Null Count  Dtype \n",
      "---  ------  --------------  ----- \n",
      " 0   Name    5 non-null      object\n",
      " 1   Age     5 non-null      int64 \n",
      " 2   Score   5 non-null      int64 \n",
      "dtypes: int64(2), object(1)\n",
      "memory usage: 252.0+ bytes\n",
      "None\n"
     ]
    }
   ],
   "source": [
    "# Info\n",
    "# Provides a summary of the DataFrame including the number of non-null entries in each column\n",
    "\n",
    "print(df.info())  \n",
    "\n"
   ]
  },
  {
   "cell_type": "code",
   "execution_count": 9,
   "id": "3bd397e9-e1a4-4ddf-acde-c104246f2343",
   "metadata": {},
   "outputs": [
    {
     "name": "stdout",
     "output_type": "stream",
     "text": [
      "             Age      Score\n",
      "count   5.000000   5.000000\n",
      "mean   32.200000  75.000000\n",
      "std     9.782638  16.807736\n",
      "min    22.000000  54.000000\n",
      "25%    25.000000  63.000000\n",
      "50%    32.000000  77.000000\n",
      "75%    35.000000  85.000000\n",
      "max    47.000000  96.000000\n"
     ]
    }
   ],
   "source": [
    "# Describe\n",
    "# Provides descriptive statistics of the DataFrame\n",
    "\n",
    "print(df.describe())  "
   ]
  },
  {
   "cell_type": "code",
   "execution_count": null,
   "id": "6ed949c3-d37f-4da6-8a67-75d5fa456a4e",
   "metadata": {},
   "outputs": [],
   "source": []
  }
 ],
 "metadata": {
  "kernelspec": {
   "display_name": "Python 3 (ipykernel)",
   "language": "python",
   "name": "python3"
  },
  "language_info": {
   "codemirror_mode": {
    "name": "ipython",
    "version": 3
   },
   "file_extension": ".py",
   "mimetype": "text/x-python",
   "name": "python",
   "nbconvert_exporter": "python",
   "pygments_lexer": "ipython3",
   "version": "3.11.4"
  }
 },
 "nbformat": 4,
 "nbformat_minor": 5
}
