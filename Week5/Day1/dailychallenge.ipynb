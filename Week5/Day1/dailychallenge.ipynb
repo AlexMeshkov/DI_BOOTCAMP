{
    "cells": [
        {
            "cell_type": "code",
            "execution_count": 36,
            "id": "c970968e-b8e3-4c47-a0b4-a476cdb45458",
            "metadata": {},
            "outputs": [],
            "source": [
                "import numpy as np"
            ]
        },
        {
            "cell_type": "code",
            "execution_count": 37,
            "id": "021e854d-b290-40b0-90ec-f4e27a6ecaa7",
            "metadata": {},
            "outputs": [],
            "source": [
                "data = np.array(np.random.randint(1, 100, size=25)).reshape(5,5)"
            ]
        },
        {
            "cell_type": "code",
            "execution_count": 38,
            "id": "4011246b-6a4e-4271-b383-8cc5e5becd1d",
            "metadata": {},
            "outputs": [
                {
                    "data": {
                        "text/plain": [
                            "array([[ 1, 92, 68, 81, 59],\n",
                            "       [43, 44, 52, 55, 57],\n",
                            "       [80, 81, 70, 79,  1],\n",
                            "       [26,  5, 96, 38, 32],\n",
                            "       [ 3, 11, 26, 57, 11]])"
                        ]
                    },
                    "execution_count": 38,
                    "metadata": {},
                    "output_type": "execute_result"
                }
            ],
            "source": [
                "data\n"
            ]
        },
        {
            "cell_type": "markdown",
            "id": "560cc837",
            "metadata": {},
            "source": [
                "exercise 1"
            ]
        },
        {
            "cell_type": "code",
            "execution_count": 39,
            "id": "f76775d0",
            "metadata": {},
            "outputs": [],
            "source": [
                "data[[1, 3]] = data[[3, 1]]"
            ]
        },
        {
            "cell_type": "code",
            "execution_count": 40,
            "id": "e6b27deb",
            "metadata": {},
            "outputs": [
                {
                    "data": {
                        "text/plain": [
                            "array([[ 1, 92, 68, 81, 59],\n",
                            "       [26,  5, 96, 38, 32],\n",
                            "       [80, 81, 70, 79,  1],\n",
                            "       [43, 44, 52, 55, 57],\n",
                            "       [ 3, 11, 26, 57, 11]])"
                        ]
                    },
                    "execution_count": 40,
                    "metadata": {},
                    "output_type": "execute_result"
                }
            ],
            "source": [
                "data"
            ]
        },
        {
            "cell_type": "markdown",
            "id": "1815ca40-433d-45ae-96eb-a9954dad9d52",
            "metadata": {},
            "source": [
                "exercise 2"
            ]
        },
        {
            "cell_type": "code",
            "execution_count": 41,
            "id": "e420213a-6b66-44b9-ba31-84ffac1dc012",
            "metadata": {},
            "outputs": [],
            "source": [
                "data_normalization = np.round((data - np.min(data)) / (np.max(data) - np.min(data)), 2)"
            ]
        },
        {
            "cell_type": "code",
            "execution_count": 42,
            "id": "5a5d7b9b-9422-47a4-8749-937d3992bedc",
            "metadata": {},
            "outputs": [
                {
                    "data": {
                        "text/plain": [
                            "array([[0.  , 0.96, 0.71, 0.84, 0.61],\n",
                            "       [0.26, 0.04, 1.  , 0.39, 0.33],\n",
                            "       [0.83, 0.84, 0.73, 0.82, 0.  ],\n",
                            "       [0.44, 0.45, 0.54, 0.57, 0.59],\n",
                            "       [0.02, 0.11, 0.26, 0.59, 0.11]])"
                        ]
                    },
                    "execution_count": 42,
                    "metadata": {},
                    "output_type": "execute_result"
                }
            ],
            "source": [
                "data_normalization"
            ]
        },
        {
            "cell_type": "markdown",
            "id": "227c22b0-be6a-404a-9635-5dbeb902ab22",
            "metadata": {},
            "source": [
                "exercise 3"
            ]
        },
        {
            "cell_type": "code",
            "execution_count": 43,
            "id": "797c2823-9607-4a08-92e0-3237f8d668be",
            "metadata": {},
            "outputs": [],
            "source": [
                "3.\n",
                "data_z_score_normalization = np.round(((data - np.mean(data)) / np.std(data)), 2)"
            ]
        },
        {
            "cell_type": "code",
            "execution_count": 44,
            "id": "b5c1c085-9cbf-48e7-af94-395158ea6661",
            "metadata": {},
            "outputs": [
                {
                    "data": {
                        "text/plain": [
                            "array([[-1.54,  1.53,  0.72,  1.16,  0.41],\n",
                            "       [-0.7 , -1.41,  1.66, -0.29, -0.5 ],\n",
                            "       [ 1.12,  1.16,  0.78,  1.09, -1.54],\n",
                            "       [-0.13, -0.09,  0.18,  0.28,  0.35],\n",
                            "       [-1.47, -1.2 , -0.7 ,  0.35, -1.2 ]])"
                        ]
                    },
                    "execution_count": 44,
                    "metadata": {},
                    "output_type": "execute_result"
                }
            ],
            "source": [
                "data_z_score_normalization"
            ]
        },
        {
            "cell_type": "markdown",
            "id": "00f48f6c-fb0c-4aa3-949f-d80a43804c55",
            "metadata": {},
            "source": [
                "exercise 4"
            ]
        },
        {
            "cell_type": "code",
            "execution_count": 45,
            "id": "96ac95a8-2dd9-489a-9e66-a2986814b6ee",
            "metadata": {},
            "outputs": [],
            "source": [
                "vector_matrix = np.ravel(data)"
            ]
        },
        {
            "cell_type": "code",
            "execution_count": 46,
            "id": "da816c93-222c-45a9-abd5-bfa66e759018",
            "metadata": {},
            "outputs": [
                {
                    "data": {
                        "text/plain": [
                            "array([ 1, 92, 68, 81, 59, 26,  5, 96, 38, 32, 80, 81, 70, 79,  1, 43, 44,\n",
                            "       52, 55, 57,  3, 11, 26, 57, 11])"
                        ]
                    },
                    "execution_count": 46,
                    "metadata": {},
                    "output_type": "execute_result"
                }
            ],
            "source": [
                "\n",
                "vector_matrix"
            ]
        },
        {
            "cell_type": "markdown",
            "id": "3fb107b4-6651-4f6a-91a7-1c3736b05dc8",
            "metadata": {},
            "source": [
                "exercise 5"
            ]
        },
        {
            "cell_type": "code",
            "execution_count": 47,
            "id": "f9c77ff9-7e74-4cea-9062-6ff8090dbe30",
            "metadata": {},
            "outputs": [],
            "source": [
                "array_my = np.array(np.random.randint(1, 100, size=5))"
            ]
        },
        {
            "cell_type": "code",
            "execution_count": 48,
            "id": "b5a1803d-fc95-4b11-bec0-bb39adbc2391",
            "metadata": {},
            "outputs": [
                {
                    "data": {
                        "text/plain": [
                            "array([31, 80, 83, 27, 41])"
                        ]
                    },
                    "execution_count": 48,
                    "metadata": {},
                    "output_type": "execute_result"
                }
            ],
            "source": [
                "array_my\n"
            ]
        },
        {
            "cell_type": "code",
            "execution_count": 49,
            "id": "6760ffa0-7e08-4732-a413-ea75cb0a3377",
            "metadata": {},
            "outputs": [],
            "source": [
                "array2 = np.array(np.random.randint(1, 100, size=5))"
            ]
        },
        {
            "cell_type": "code",
            "execution_count": 50,
            "id": "68c5da07-5a1c-476d-9f26-544a7273622e",
            "metadata": {},
            "outputs": [
                {
                    "data": {
                        "text/plain": [
                            "array([68, 48, 37, 26, 30])"
                        ]
                    },
                    "execution_count": 50,
                    "metadata": {},
                    "output_type": "execute_result"
                }
            ],
            "source": [
                "array2"
            ]
        },
        {
            "cell_type": "code",
            "execution_count": 51,
            "id": "d9ccd02e-b8a6-446a-ac18-0709870fa91b",
            "metadata": {},
            "outputs": [
                {
                    "data": {
                        "text/plain": [
                            "10951"
                        ]
                    },
                    "execution_count": 51,
                    "metadata": {},
                    "output_type": "execute_result"
                }
            ],
            "source": [
                "np.dot(array_my, array2)"
            ]
        },
        {
            "cell_type": "markdown",
            "id": "a7db47a9-ef4f-407e-a0cc-e9ba37e64122",
            "metadata": {},
            "source": [
                "Exercise 6"
            ]
        },
        {
            "cell_type": "code",
            "execution_count": 52,
            "id": "722d2243-7db5-433b-97db-739a274380c0",
            "metadata": {},
            "outputs": [],
            "source": [
                "data2 = np.array(np.random.randint(1, 100, size=9)).reshape(3,3)"
            ]
        },
        {
            "cell_type": "code",
            "execution_count": 53,
            "id": "6709b128-b4f9-4c6c-be67-3ff1782cf5a7",
            "metadata": {},
            "outputs": [
                {
                    "data": {
                        "text/plain": [
                            "array([[51,  7, 38],\n",
                            "       [93, 68, 37],\n",
                            "       [59, 53, 42]])"
                        ]
                    },
                    "execution_count": 53,
                    "metadata": {},
                    "output_type": "execute_result"
                }
            ],
            "source": [
                "data2"
            ]
        },
        {
            "cell_type": "code",
            "execution_count": 54,
            "id": "b51a7b76-21e6-4ae9-b823-5307bfc17ed1",
            "metadata": {},
            "outputs": [],
            "source": [
                "matrix_multiplication = np.dot(data[2:, 2:], data2)"
            ]
        },
        {
            "cell_type": "code",
            "execution_count": 55,
            "id": "ac9815fc-eabe-48d0-be95-1944de321f4c",
            "metadata": {},
            "outputs": [
                {
                    "data": {
                        "text/plain": [
                            "array([[10976,  5915,  5625],\n",
                            "       [11130,  7125,  6405],\n",
                            "       [ 7276,  4641,  3559]])"
                        ]
                    },
                    "execution_count": 55,
                    "metadata": {},
                    "output_type": "execute_result"
                }
            ],
            "source": [
                "\n",
                "matrix_multiplication"
            ]
        },
        {
            "cell_type": "markdown",
            "id": "59815527-ab0a-4a26-b78e-584da1687326",
            "metadata": {},
            "source": [
                "Exercise 7"
            ]
        },
        {
            "cell_type": "code",
            "execution_count": 56,
            "id": "ae66782e-27c6-4f98-adbb-39d9fe8f8217",
            "metadata": {},
            "outputs": [],
            "source": [
                "identity_matrix = np.eye(3)"
            ]
        },
        {
            "cell_type": "code",
            "execution_count": 57,
            "id": "054e5500-1578-435d-9e56-9caf62793ee0",
            "metadata": {},
            "outputs": [
                {
                    "data": {
                        "text/plain": [
                            "array([[1., 0., 0.],\n",
                            "       [0., 1., 0.],\n",
                            "       [0., 0., 1.]])"
                        ]
                    },
                    "execution_count": 57,
                    "metadata": {},
                    "output_type": "execute_result"
                }
            ],
            "source": [
                "identity_matrix"
            ]
        },
        {
            "cell_type": "code",
            "execution_count": 58,
            "id": "d89e31e3-9266-4830-8dbf-1e44a36d7d2c",
            "metadata": {},
            "outputs": [],
            "source": [
                "identity_matrix_mult2 = identity_matrix * 2"
            ]
        },
        {
            "cell_type": "code",
            "execution_count": 59,
            "id": "66fe7d44-04a6-4da6-8f60-919618e624ff",
            "metadata": {},
            "outputs": [
                {
                    "data": {
                        "text/plain": [
                            "array([[2., 0., 0.],\n",
                            "       [0., 2., 0.],\n",
                            "       [0., 0., 2.]])"
                        ]
                    },
                    "execution_count": 59,
                    "metadata": {},
                    "output_type": "execute_result"
                }
            ],
            "source": [
                "identity_matrix_mult2"
            ]
        },
        {
            "cell_type": "code",
            "execution_count": 60,
            "id": "4c0a9802-00aa-4f7b-b9e9-28e2cbf8e410",
            "metadata": {},
            "outputs": [
                {
                    "data": {
                        "text/plain": [
                            "array([[0.5, 0. , 0. ],\n",
                            "       [0. , 0.5, 0. ],\n",
                            "       [0. , 0. , 0.5]])"
                        ]
                    },
                    "execution_count": 60,
                    "metadata": {},
                    "output_type": "execute_result"
                }
            ],
            "source": [
                "np.linalg.inv(identity_matrix_mult2)"
            ]
        },
        {
            "cell_type": "markdown",
            "id": "774f3894-43c1-426e-9d0c-0efa768d4003",
            "metadata": {},
            "source": [
                "exercise 8"
            ]
        },
        {
            "cell_type": "code",
            "execution_count": 61,
            "id": "0e56f27a-7a7f-4e79-8340-639ae56ffd29",
            "metadata": {},
            "outputs": [],
            "source": [
                "eigenvalues, eigenvectors = np.linalg.eig(data[:3, :3])"
            ]
        },
        {
            "cell_type": "code",
            "execution_count": 62,
            "id": "2a06c480-b339-4aa8-a280-6aa3f02853bf",
            "metadata": {},
            "outputs": [
                {
                    "data": {
                        "text/plain": [
                            "array([180.20167808 +0.j        , -52.10083904+29.66175688j,\n",
                            "       -52.10083904-29.66175688j])"
                        ]
                    },
                    "execution_count": 62,
                    "metadata": {},
                    "output_type": "execute_result"
                }
            ],
            "source": [
                "\n",
                "eigenvalues"
            ]
        },
        {
            "cell_type": "code",
            "execution_count": 63,
            "id": "58fda888-98de-4b29-a353-02865fa1e187",
            "metadata": {},
            "outputs": [
                {
                    "data": {
                        "text/plain": [
                            "array([[ 0.51360306+0.j        ,  0.69874583+0.j        ,\n",
                            "         0.69874583-0.j        ],\n",
                            "       [ 0.46967528+0.j        , -0.26263487+0.50906453j,\n",
                            "        -0.26263487-0.50906453j],\n",
                            "       [ 0.71806477+0.j        , -0.19031738-0.38393983j,\n",
                            "        -0.19031738+0.38393983j]])"
                        ]
                    },
                    "execution_count": 63,
                    "metadata": {},
                    "output_type": "execute_result"
                }
            ],
            "source": [
                "eigenvectors"
            ]
        },
        {
            "cell_type": "markdown",
            "id": "debbcd9f-bfd7-491f-8bbd-ea1f7f0b1820",
            "metadata": {},
            "source": [
                "Exercise 9"
            ]
        },
        {
            "cell_type": "code",
            "execution_count": 73,
            "id": "0bf14d46-8324-4335-bf8b-9c0374a6e8d6",
            "metadata": {},
            "outputs": [],
            "source": [
                "mark = np.random.choice(data.size, 5)"
            ]
        },
        {
            "cell_type": "code",
            "execution_count": 74,
            "id": "27a8ee46-f109-4e72-9d66-71f71fcb216d",
            "metadata": {},
            "outputs": [
                {
                    "data": {
                        "text/plain": [
                            "array([ 4, 21, 10,  4,  8])"
                        ]
                    },
                    "execution_count": 74,
                    "metadata": {},
                    "output_type": "execute_result"
                }
            ],
            "source": [
                "mark"
            ]
        },
        {
            "cell_type": "code",
            "execution_count": 75,
            "id": "16dd97f5-2f85-4e25-a700-5c6478848793",
            "metadata": {},
            "outputs": [],
            "source": [
                "data_matrix_copy = data[:].astype('float')"
            ]
        },
        {
            "cell_type": "code",
            "execution_count": 76,
            "id": "8374d928-41c2-4d26-b695-aa032a3f1c11",
            "metadata": {},
            "outputs": [
                {
                    "data": {
                        "text/plain": [
                            "array([[ 1., 92., 68., 81., 59.],\n",
                            "       [26.,  5., 96., 38., 32.],\n",
                            "       [80., 81., 70., 79.,  1.],\n",
                            "       [43., 44., 52., 55., 57.],\n",
                            "       [ 3., 11., 26., 57., 11.]])"
                        ]
                    },
                    "execution_count": 76,
                    "metadata": {},
                    "output_type": "execute_result"
                }
            ],
            "source": [
                "data_matrix_copy"
            ]
        },
        {
            "cell_type": "code",
            "execution_count": 77,
            "id": "15033eda-7bc3-4247-81ff-eb9fda7d4462",
            "metadata": {},
            "outputs": [],
            "source": [
                "data_matrix_copy.flat[mark] = np.nan"
            ]
        },
        {
            "cell_type": "code",
            "execution_count": 78,
            "id": "3bcf07da-9644-4cae-9c2a-31f17ae84b34",
            "metadata": {},
            "outputs": [
                {
                    "data": {
                        "text/plain": [
                            "array([[ 1., 92., 68., 81., nan],\n",
                            "       [26.,  5., 96., nan, 32.],\n",
                            "       [nan, 81., 70., 79.,  1.],\n",
                            "       [43., 44., 52., 55., 57.],\n",
                            "       [ 3., nan, 26., 57., 11.]])"
                        ]
                    },
                    "execution_count": 78,
                    "metadata": {},
                    "output_type": "execute_result"
                }
            ],
            "source": [
                "data_matrix_copy"
            ]
        },
        {
            "cell_type": "code",
            "execution_count": 79,
            "id": "9134f506-d3e1-4322-975b-98c6c105408d",
            "metadata": {},
            "outputs": [],
            "source": [
                "\n",
                "missing_value_indices = np.where(np.isnan(data_matrix_copy))"
            ]
        },
        {
            "cell_type": "code",
            "execution_count": 80,
            "id": "ec0610e7-b0da-4eef-a839-1d762a788f19",
            "metadata": {},
            "outputs": [
                {
                    "data": {
                        "text/plain": [
                            "(array([0, 1, 2, 4]), array([4, 3, 0, 1]))"
                        ]
                    },
                    "execution_count": 80,
                    "metadata": {},
                    "output_type": "execute_result"
                }
            ],
            "source": [
                "\n",
                "missing_value_indices"
            ]
        },
        {
            "cell_type": "code",
            "execution_count": null,
            "id": "3852bf77-59c1-4f2a-845f-83d2cd0d00fd",
            "metadata": {},
            "outputs": [],
            "source": []
        },
        {
            "cell_type": "code",
            "execution_count": null,
            "id": "bf0b9f01-a077-4c50-88d3-5ecf13b33cee",
            "metadata": {},
            "outputs": [],
            "source": []
        }
    ],
    "metadata": {
        "kernelspec": {
            "display_name": "Python 3 (ipykernel)",
            "language": "python",
            "name": "python3"
        },
        "language_info": {
            "codemirror_mode": {
                "name": "ipython",
                "version": 3
            },
            "file_extension": ".py",
            "mimetype": "text/x-python",
            "name": "python",
            "nbconvert_exporter": "python",
            "pygments_lexer": "ipython3",
            "version": "3.11.4"
        }
    },
    "nbformat": 4,
    "nbformat_minor": 5
}