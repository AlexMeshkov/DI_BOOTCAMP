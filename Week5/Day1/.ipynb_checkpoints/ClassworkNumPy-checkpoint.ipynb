{
 "cells": [
  {
   "cell_type": "code",
   "execution_count": 1,
   "id": "038d3ce1-4994-4db8-92d1-ea0a929f232a",
   "metadata": {},
   "outputs": [],
   "source": [
    "import numpy as np"
   ]
  },
  {
   "cell_type": "code",
   "execution_count": 2,
   "id": "aa4e4946-3fa0-4fc7-aa1f-0b362c251a91",
   "metadata": {},
   "outputs": [
    {
     "name": "stdout",
     "output_type": "stream",
     "text": [
      "[ 2  4  6  8 10]\n"
     ]
    }
   ],
   "source": [
    "# Create a NumPy array\n",
    "array = np.array([1, 2, 3, 4, 5])\n",
    "\n",
    "# Perform an operation on the array\n",
    "double = array * 2\n",
    "\n",
    "print(double)  # Outputs: array([2, 4, 6, 8, 10])"
   ]
  },
  {
   "cell_type": "code",
   "execution_count": 3,
   "id": "64e20987-7743-4391-bc74-703aa56c8c31",
   "metadata": {},
   "outputs": [
    {
     "name": "stdout",
     "output_type": "stream",
     "text": [
      "[1 2 3]\n"
     ]
    }
   ],
   "source": [
    "# Creating an array in NumPy\n",
    "array = np.array([1, 2, 3])\n",
    "print(array)"
   ]
  },
  {
   "cell_type": "code",
   "execution_count": 4,
   "id": "8eeb5ff3-5dc7-4417-ac21-0b8201fadab7",
   "metadata": {},
   "outputs": [
    {
     "name": "stdout",
     "output_type": "stream",
     "text": [
      "1\n",
      "(5,)\n",
      "5\n",
      "int64\n"
     ]
    }
   ],
   "source": [
    "# Create a 1D NumPy array\n",
    "array_1d = np.array([1, 2, 3, 4, 5])\n",
    "\n",
    "# Check properties of the array\n",
    "print(array_1d.ndim)  # Output: 1\n",
    "print(array_1d.shape)  # Output: (5,)\n",
    "print(array_1d.size)  # Output: 5\n",
    "print(array_1d.dtype)  # Output: int64"
   ]
  },
  {
   "cell_type": "code",
   "execution_count": 6,
   "id": "3ebb9b17-08a1-4c98-b0cb-5d6520a014e5",
   "metadata": {},
   "outputs": [
    {
     "name": "stdout",
     "output_type": "stream",
     "text": [
      "[[1 2 3]\n",
      " [4 5 6]]\n",
      "[[0. 0.]\n",
      " [0. 0.]\n",
      " [0. 0.]]\n"
     ]
    }
   ],
   "source": [
    "# Create a 2D array from a list of lists\n",
    "array_2d = np.array([[1, 2, 3], [4, 5, 6]])\n",
    "print(array_2d)\n",
    "# Output: \n",
    "# [[1 2 3]\n",
    "#  [4 5 6]]\n",
    "\n",
    "# Create a 2D array of zeros with shape (3, 2)\n",
    "zeros = np.zeros((3, 2))\n",
    "print(zeros)\n",
    "# Output: \n",
    "# [[0. 0.]\n",
    "#  [0. 0.]\n",
    "#  [0. 0.]]"
   ]
  },
  {
   "cell_type": "markdown",
   "id": "049a27bc-aa6e-4242-a3fa-12cd6b6763d4",
   "metadata": {},
   "source": [
    "### Data Types In NumPy\n"
   ]
  },
  {
   "cell_type": "code",
   "execution_count": 7,
   "id": "54493354-e96a-4c60-8148-f000fdf0092d",
   "metadata": {},
   "outputs": [
    {
     "name": "stdout",
     "output_type": "stream",
     "text": [
      "float64\n"
     ]
    }
   ],
   "source": [
    "# Create a float type array\n",
    "float_array = np.array([1.0, 2.0, 3.0])\n",
    "print(float_array.dtype)  # Output: float64"
   ]
  },
  {
   "cell_type": "markdown",
   "id": "9b1db550-d43f-4148-8773-9ebd11608ca8",
   "metadata": {},
   "source": [
    "### Converting Data Types\n"
   ]
  },
  {
   "cell_type": "code",
   "execution_count": 8,
   "id": "4df87bf1-697b-44cf-b709-ce188a6688d5",
   "metadata": {},
   "outputs": [
    {
     "name": "stdout",
     "output_type": "stream",
     "text": [
      "[1. 2. 3. 4. 5.]\n",
      "float64\n"
     ]
    }
   ],
   "source": [
    "# Create an array of integers\n",
    "array = np.array([1, 2, 3, 4, 5])\n",
    "\n",
    "# Convert to float type\n",
    "float_array = array.astype('float64')\n",
    "\n",
    "print(float_array)  # Output: array([1., 2., 3., 4., 5.])\n",
    "print(float_array.dtype)  # Output: float64"
   ]
  },
  {
   "cell_type": "markdown",
   "id": "68561820-a3e7-47e7-9a1e-ece9e02d6bb2",
   "metadata": {},
   "source": [
    "### Array Indexing In NumPy\n"
   ]
  },
  {
   "cell_type": "code",
   "execution_count": 9,
   "id": "09e3a9c8-fde2-4f7c-a3ea-1ea33c343133",
   "metadata": {},
   "outputs": [
    {
     "name": "stdout",
     "output_type": "stream",
     "text": [
      "2\n",
      "5\n"
     ]
    }
   ],
   "source": [
    "import numpy as np\n",
    "\n",
    "# Create a 1D array\n",
    "array_1d = np.array([1, 2, 3, 4, 5])\n",
    "\n",
    "# Access elements at index 1\n",
    "print(array_1d[1])  # Output: 2\n",
    "\n",
    "# Access elements at the last index\n",
    "print(array_1d[-1])  # Output: 5"
   ]
  },
  {
   "cell_type": "markdown",
   "id": "ed365510-f3bb-4927-ab05-11e6a8455373",
   "metadata": {},
   "source": [
    "#### With multidimensional arrays, indices are tuples of integers. In a 2D array, the indices are in the form [row, column].\n"
   ]
  },
  {
   "cell_type": "code",
   "execution_count": 10,
   "id": "42ffcc13-77fa-4fa3-88d6-9c336cc2e883",
   "metadata": {},
   "outputs": [
    {
     "name": "stdout",
     "output_type": "stream",
     "text": [
      "6\n"
     ]
    }
   ],
   "source": [
    "# Create a 2D array\n",
    "array_2d = np.array([[1, 2, 3], [4, 5, 6]])\n",
    "\n",
    "# Access element at row 1 and column 2\n",
    "print(array_2d[1, 2])  # Output: 6"
   ]
  },
  {
   "cell_type": "markdown",
   "id": "9e095dfc-3215-41ac-9ba2-3ddf49fb9224",
   "metadata": {},
   "source": [
    "### Slicing In NumPy\n",
    "NumPy arrays can be sliced, which means to extract a portion of the array. This works similarly to Python lists but with multiple dimensions. The slice syntax is start:stop:step."
   ]
  },
  {
   "cell_type": "code",
   "execution_count": 11,
   "id": "9b55bb3b-b7cd-49bd-829d-588b60ca7284",
   "metadata": {},
   "outputs": [
    {
     "name": "stdout",
     "output_type": "stream",
     "text": [
      "[2 3 4]\n",
      "[[1 2]\n",
      " [4 5]]\n"
     ]
    }
   ],
   "source": [
    "# Slice a 1D array\n",
    "print(array_1d[1:4])  # Output: array([2, 3, 4])\n",
    "\n",
    "# Slice a 2D array (get first 2 rows and 2 columns)\n",
    "print(array_2d[:2, :2])\n",
    "# Output: \n",
    "# [[1 2]\n",
    "#  [4 5]]"
   ]
  },
  {
   "cell_type": "markdown",
   "id": "dc97fdb4-3ce0-44bd-ad48-8b5527eade11",
   "metadata": {},
   "source": [
    "### Reversing An Array Using Slicing\n",
    "A common slicing operation is the reversing of an array, which can be done by specifying ::-1."
   ]
  },
  {
   "cell_type": "code",
   "execution_count": 12,
   "id": "e9a8c9bf-e6b3-41d3-8a22-9d4b5a04b721",
   "metadata": {},
   "outputs": [
    {
     "name": "stdout",
     "output_type": "stream",
     "text": [
      "[5 4 3 2 1]\n",
      "[[4 5 6]\n",
      " [1 2 3]]\n"
     ]
    }
   ],
   "source": [
    "# Reverse a 1D array\n",
    "print(array_1d[::-1])  # Output: array([5, 4, 3, 2, 1])\n",
    "\n",
    "# Reverse the order of rows in 2D array\n",
    "print(array_2d[::-1])\n",
    "# Output: \n",
    "# [[4 5 6]\n",
    "#  [1 2 3]]"
   ]
  },
  {
   "cell_type": "markdown",
   "id": "e8f583bd-b2db-4204-ad8e-e71eeb8b3bad",
   "metadata": {},
   "source": [
    "### Using Np.Arange() To Generate Sequences Of Numbers\n",
    "The np.arange() function is used to generate sequences of numbers in the form of a NumPy array. It works similarly to Python’s built-in range function but returns a NumPy array instead of a list.\n"
   ]
  },
  {
   "cell_type": "code",
   "execution_count": 13,
   "id": "0486fa22-7f1c-459a-a97f-2b7db58e3288",
   "metadata": {},
   "outputs": [
    {
     "name": "stdout",
     "output_type": "stream",
     "text": [
      "[0 1 2 3 4 5 6 7 8 9]\n"
     ]
    }
   ],
   "source": [
    "import numpy as np\n",
    "\n",
    "# Generate a sequence from 0 to 9\n",
    "sequence = np.arange(10)\n",
    "\n",
    "print(sequence)\n",
    "# Output: [0 1 2 3 4 5 6 7 8 9]"
   ]
  },
  {
   "cell_type": "code",
   "execution_count": 14,
   "id": "7c3f5a6f-2c0b-4a98-9325-7a7e93925acd",
   "metadata": {},
   "outputs": [
    {
     "name": "stdout",
     "output_type": "stream",
     "text": [
      "[ 5  7  9 11 13]\n"
     ]
    }
   ],
   "source": [
    "# Generate a sequence from 5 to 15 with step size 2\n",
    "sequence = np.arange(5, 15, 2)\n",
    "\n",
    "print(sequence)\n",
    "# Output: [5, 7, 9, 11, 13]"
   ]
  },
  {
   "cell_type": "markdown",
   "id": "83839357-bb69-4dc8-adda-703fa2c5028b",
   "metadata": {},
   "source": [
    "### Using Np.Linspace() To Generate Evenly Spaced Sequences\n",
    "While np.arange() uses a step size to control the interval between elements, np.linspace() generates a specified number of equally spaced elements between the start and the end points.\n",
    "\n"
   ]
  },
  {
   "cell_type": "code",
   "execution_count": 15,
   "id": "b867d4dc-2e5d-4994-8e1e-af2ca99df297",
   "metadata": {},
   "outputs": [
    {
     "name": "stdout",
     "output_type": "stream",
     "text": [
      "[0.   0.25 0.5  0.75 1.  ]\n"
     ]
    }
   ],
   "source": [
    "# Generate 5 equally spaced numbers between 0 and 1\n",
    "sequence = np.linspace(0, 1, 5)\n",
    "\n",
    "print(sequence)\n",
    "# Output: [0., 0.25, 0.5, 0.75, 1.]"
   ]
  },
  {
   "cell_type": "markdown",
   "id": "807b997f-b68e-4cf5-bc7e-55ab2ff78360",
   "metadata": {},
   "source": [
    "### Using Np.Random To Generate Random Numbers\n",
    "NumPy’s random module provides functions to generate random numbers from different distributions. For example, np.random.rand() generates numbers uniformly distributed between 0 and 1."
   ]
  },
  {
   "cell_type": "code",
   "execution_count": 16,
   "id": "038a942f-a60e-4821-8508-bac089f4a539",
   "metadata": {},
   "outputs": [
    {
     "name": "stdout",
     "output_type": "stream",
     "text": [
      "[0.72834356 0.02052306 0.13628384 0.24918733 0.4732815 ]\n"
     ]
    }
   ],
   "source": [
    "# Generate 5 random numbers between 0 and 1\n",
    "random_numbers = np.random.rand(5)\n",
    "\n",
    "print(random_numbers) # [0.160247, 0.98714835, 0.12196584, 0.90590343, 0.07529476]"
   ]
  },
  {
   "cell_type": "code",
   "execution_count": 17,
   "id": "522e689d-cc9e-4467-bc36-e18960ca7520",
   "metadata": {},
   "outputs": [
    {
     "name": "stdout",
     "output_type": "stream",
     "text": [
      "[1 6 1 6 8]\n"
     ]
    }
   ],
   "source": [
    "# Generate 5 random integers between 0 and 10\n",
    "random_integers = np.random.randint(0, 10, 5)\n",
    "\n",
    "print(random_integers) # [5, 1, 2, 7, 3]"
   ]
  },
  {
   "cell_type": "markdown",
   "id": "8d150b46-a436-4302-8ac6-a68f06cbd852",
   "metadata": {},
   "source": [
    "### Introduction To Matrices In NumPy"
   ]
  },
  {
   "cell_type": "code",
   "execution_count": 18,
   "id": "c452e070-a2ea-4042-bbaa-93c3b20cd25c",
   "metadata": {},
   "outputs": [
    {
     "name": "stdout",
     "output_type": "stream",
     "text": [
      "[[1 2 3]\n",
      " [4 5 6]\n",
      " [7 8 9]]\n"
     ]
    }
   ],
   "source": [
    "# Define a matrix\n",
    "matrix = np.array([[1, 2, 3], [4, 5, 6], [7, 8, 9]])\n",
    "\n",
    "print(matrix)"
   ]
  },
  {
   "cell_type": "markdown",
   "id": "a0e12716-4d3b-4ef7-80fc-1f16df63cf6c",
   "metadata": {},
   "source": [
    "### Creating Matrices\n",
    "NumPy offers several functions to create matrices, such as np.reshape() and np.eye().\n",
    "\n",
    "The np.reshape() function allows you to change the shape of your array without changing the data."
   ]
  },
  {
   "cell_type": "code",
   "execution_count": 20,
   "id": "392bff93-7f8b-43d0-986c-71668899dc0a",
   "metadata": {},
   "outputs": [
    {
     "name": "stdout",
     "output_type": "stream",
     "text": [
      "[[1 2 3]\n",
      " [4 5 6]]\n"
     ]
    }
   ],
   "source": [
    "# Create a 1D array\n",
    "array = np.array([1, 2, 3, 4, 5, 6])\n",
    "\n",
    "# Reshape it into a 2D matrix\n",
    "matrix = np.reshape(array, (2, 3))\n",
    "\n",
    "print(matrix)\n"
   ]
  },
  {
   "cell_type": "markdown",
   "id": "169a88a0-3792-415f-a4e4-e7c5d719d1f4",
   "metadata": {},
   "source": [
    "####\n",
    "np.eye(N) creates an N x N identity matrix (a square matrix in which all the elements of the principal diagonal are ones and all other elements are zeros)."
   ]
  },
  {
   "cell_type": "code",
   "execution_count": 22,
   "id": "81deff08-db22-42b9-924e-45bffa30d64c",
   "metadata": {},
   "outputs": [
    {
     "name": "stdout",
     "output_type": "stream",
     "text": [
      "[[1. 0. 0.]\n",
      " [0. 1. 0.]\n",
      " [0. 0. 1.]]\n"
     ]
    }
   ],
   "source": [
    "# Create a 3x3 identity matrix\n",
    "identity_matrix = np.eye(3)\n",
    "\n",
    "print(identity_matrix)\n"
   ]
  },
  {
   "cell_type": "markdown",
   "id": "26028466-2fb8-453f-9881-eb7ce89eb17e",
   "metadata": {},
   "source": [
    "### Understanding Rows And Columns In A Matrix\n",
    "In a matrix, each row is a list that contains elements. The elements can be of any type, including another list. The inner lists are treated as rows of the matrix."
   ]
  },
  {
   "cell_type": "code",
   "execution_count": 26,
   "id": "475d0e31-0dfb-477d-810c-14fada4e75ff",
   "metadata": {},
   "outputs": [
    {
     "data": {
      "text/plain": [
       "array([[1, 2, 3],\n",
       "       [4, 5, 6],\n",
       "       [7, 8, 9]])"
      ]
     },
     "execution_count": 26,
     "metadata": {},
     "output_type": "execute_result"
    }
   ],
   "source": [
    "# Define a matrix\n",
    "matrix = np.array([[1, 2, 3], [4, 5, 6], [7, 8, 9]])\n",
    "matrix"
   ]
  },
  {
   "cell_type": "code",
   "execution_count": 23,
   "id": "08e3a750-b1d5-4786-bf8c-396ebc764812",
   "metadata": {},
   "outputs": [
    {
     "name": "stdout",
     "output_type": "stream",
     "text": [
      "First row:  [1 2 3]\n",
      "Second column:  [2 5 8]\n"
     ]
    }
   ],
   "source": [
    "# Access the first row\n",
    "first_row = matrix[0]\n",
    "\n",
    "# Access the second column\n",
    "second_column = matrix[:, 1]\n",
    "\n",
    "print(\"First row: \", first_row)\n",
    "# Output: First row:  [1 2 3]\n",
    "\n",
    "print(\"Second column: \", second_column)\n",
    "# Output: Second column:  [2 5 8]"
   ]
  },
  {
   "cell_type": "markdown",
   "id": "39ec182f-a078-414f-a11d-4949f9604d2d",
   "metadata": {},
   "source": [
    "### Row Operations: Subtracting The Mean\n",
    "One common operation is to subtract the mean of a row from each element in the row. This can be done easily in NumPy using axis argument."
   ]
  },
  {
   "cell_type": "code",
   "execution_count": 28,
   "id": "fac975c8-751b-491d-b380-226d5461109e",
   "metadata": {},
   "outputs": [
    {
     "name": "stdout",
     "output_type": "stream",
     "text": [
      "[[-1.  0.  1.]\n",
      " [-1.  0.  1.]\n",
      " [-1.  0.  1.]]\n"
     ]
    }
   ],
   "source": [
    "# Subtract row mean from each element\n",
    "mean_subtracted = matrix - matrix.mean(axis=1, keepdims=True)\n",
    "\n",
    "print(mean_subtracted)\n"
   ]
  },
  {
   "cell_type": "markdown",
   "id": "d33ddadc-f170-4ccc-8c22-95a5375762d7",
   "metadata": {},
   "source": [
    "### Sorting Arrays By Column Using Np.Argsort\n",
    "NumPy provides a function np.argsort() that performs an indirect sort along the specified axis. This can be used to sort the rows of a matrix by the values in a column.\n",
    "\n"
   ]
  },
  {
   "cell_type": "code",
   "execution_count": 29,
   "id": "50812cb8-e314-485e-81fa-d98b30c13ebc",
   "metadata": {},
   "outputs": [
    {
     "name": "stdout",
     "output_type": "stream",
     "text": [
      "Original matrix:\n",
      "[[ 1  3  2]\n",
      " [ 4  1  5]\n",
      " [ 7  9  8]\n",
      " [10  5 11]]\n"
     ]
    }
   ],
   "source": [
    "# Create a matrix\n",
    "\n",
    "matrix = np.array([[1, 3, 2], [4, 1, 5], [7, 9, 8], [10, 5, 11]])\n",
    "\n",
    "print(\"Original matrix:\")\n",
    "print(matrix)"
   ]
  },
  {
   "cell_type": "code",
   "execution_count": 33,
   "id": "1a6e3131-c6bb-4d0f-a1ea-59d31f3a1a48",
   "metadata": {},
   "outputs": [
    {
     "name": "stdout",
     "output_type": "stream",
     "text": [
      "\n",
      "Matrix sorted by second column:\n",
      "[[ 4  1  5]\n",
      " [ 1  3  2]\n",
      " [10  5 11]\n",
      " [ 7  9  8]]\n"
     ]
    }
   ],
   "source": [
    "# Sort matrix by second column\n",
    "\n",
    "sorted_matrix = matrix[matrix[:,1].argsort()]\n",
    "\n",
    "print(\"\\nMatrix sorted by second column:\")\n",
    "print(sorted_matrix)"
   ]
  },
  {
   "cell_type": "markdown",
   "id": "f97ea35b-de0d-4af0-8b75-f84e8bed2d61",
   "metadata": {},
   "source": [
    "### Swapping Rows\n",
    "Swapping rows in a matrix can be done with simple indexing."
   ]
  },
  {
   "cell_type": "code",
   "execution_count": 34,
   "id": "71942bce-87bd-4283-a37a-dc6001c38f48",
   "metadata": {},
   "outputs": [
    {
     "name": "stdout",
     "output_type": "stream",
     "text": [
      "[[ 4  1  5]\n",
      " [ 1  3  2]\n",
      " [ 7  9  8]\n",
      " [10  5 11]]\n"
     ]
    }
   ],
   "source": [
    "# Swap the first and second row\n",
    "matrix[[0, 1]] = matrix[[1, 0]]\n",
    "\n",
    "print(matrix)"
   ]
  },
  {
   "cell_type": "markdown",
   "id": "c61047a6-190f-4868-bf93-c6b85ceaf2e8",
   "metadata": {},
   "source": [
    "### Understanding Universal Functions (UFuncs)\n",
    "Universal functions in NumPy (known as ufuncs) are simple mathematical functions that can be applied element-wise on arrays. UFuncs in NumPy are faster than traditional methods, as they use broadcasting and optimized C code under the hood. Here’s an example of a ufunc in action:"
   ]
  },
  {
   "cell_type": "code",
   "execution_count": 35,
   "id": "8d8d60a8-1232-4165-a22e-78b7f3b18de7",
   "metadata": {},
   "outputs": [
    {
     "name": "stdout",
     "output_type": "stream",
     "text": [
      "[1.         1.41421356 1.73205081 2.         2.23606798]\n"
     ]
    }
   ],
   "source": [
    "\n",
    "import numpy as np\n",
    "\n",
    "# Define an array\n",
    "array = np.array([1, 2, 3, 4, 5])\n",
    "\n",
    "# Apply the ufunc np.sqrt (square root)\n",
    "result = np.sqrt(array)\n",
    "\n",
    "print(result)\n",
    "# Output: [1., 1.41421356, 1.73205081, 2. , 2.23606798]"
   ]
  },
  {
   "cell_type": "markdown",
   "id": "0b8ba5c4-0ab1-4e2a-81bc-2ae5a24b1041",
   "metadata": {},
   "source": [
    "### Mathematical Functions:\n",
    "Some basic functions include finding the min/max value, the mean and the median.\n",
    "For many functions you can specify which axis (dimension) you want the calculation."
   ]
  },
  {
   "cell_type": "code",
   "execution_count": 40,
   "id": "1fe6cace-c78d-4a76-b1e2-a550ecd9febe",
   "metadata": {},
   "outputs": [
    {
     "data": {
      "text/plain": [
       "array([   2,    4,    6,    8,   13, 2020])"
      ]
     },
     "execution_count": 40,
     "metadata": {},
     "output_type": "execute_result"
    }
   ],
   "source": [
    "lst = [2, 4, 6, 8, 13, 2020]\n",
    "numpy_arr = np.array(lst)\n",
    "numpy_arr"
   ]
  },
  {
   "cell_type": "code",
   "execution_count": 41,
   "id": "13b68e6e-0b92-4290-a6e9-a93f5ff397e5",
   "metadata": {},
   "outputs": [
    {
     "data": {
      "text/plain": [
       "342.1666666666667"
      ]
     },
     "execution_count": 41,
     "metadata": {},
     "output_type": "execute_result"
    }
   ],
   "source": [
    "np.mean(numpy_arr)\n"
   ]
  },
  {
   "cell_type": "code",
   "execution_count": 42,
   "id": "9a4b7629-a4ea-44bd-a5e7-9b541c4bd67d",
   "metadata": {},
   "outputs": [
    {
     "data": {
      "text/plain": [
       "7.0"
      ]
     },
     "execution_count": 42,
     "metadata": {},
     "output_type": "execute_result"
    }
   ],
   "source": [
    "np.median(numpy_arr)"
   ]
  },
  {
   "cell_type": "code",
   "execution_count": 43,
   "id": "f0609759-e2a8-4257-bbda-662176a25f8d",
   "metadata": {},
   "outputs": [
    {
     "data": {
      "text/plain": [
       "2020"
      ]
     },
     "execution_count": 43,
     "metadata": {},
     "output_type": "execute_result"
    }
   ],
   "source": [
    "numpy_arr.max()"
   ]
  },
  {
   "cell_type": "markdown",
   "id": "80f9bb6a-307b-4701-af2e-35381dd20e7f",
   "metadata": {},
   "source": [
    "### Basic Mathematical Operations In NumPy: Addition, Subtraction, Etc.\n",
    "Mathematical operations in NumPy, like addition, subtraction, multiplication, and division, are performed element-wise on arrays. This is possible because of broadcasting rules that NumPy follows. Here are some examples:"
   ]
  },
  {
   "cell_type": "code",
   "execution_count": 44,
   "id": "cb2eb5e3-4d02-42c4-9794-6a229808ba52",
   "metadata": {},
   "outputs": [
    {
     "name": "stdout",
     "output_type": "stream",
     "text": [
      "Addition: [ 7  9 11 13 15]\n"
     ]
    }
   ],
   "source": [
    "\n",
    "# Define two arrays\n",
    "array1 = np.array([1, 2, 3, 4, 5])\n",
    "array2 = np.array([6, 7, 8, 9, 10])\n",
    "\n",
    "# Perform addition\n",
    "result_add = array1 + array2\n",
    "\n",
    "# Perform subtraction\n",
    "result_sub = array1 - array2\n",
    "\n",
    "# Perform multiplication\n",
    "result_mul = array1 * array2\n",
    "\n",
    "# Perform division\n",
    "result_div = array1 / array2\n",
    "\n",
    "print(\"Addition:\", result_add)"
   ]
  },
  {
   "cell_type": "code",
   "execution_count": 45,
   "id": "1eddaa9c-5d22-4c6b-9c05-8ca66f27d6f7",
   "metadata": {},
   "outputs": [
    {
     "name": "stdout",
     "output_type": "stream",
     "text": [
      "Subtraction: [-5 -5 -5 -5 -5]\n"
     ]
    }
   ],
   "source": [
    "print(\"Subtraction:\", result_sub)"
   ]
  },
  {
   "cell_type": "code",
   "execution_count": 46,
   "id": "2ca6fedb-74ce-4dcf-9539-52127f74286c",
   "metadata": {},
   "outputs": [
    {
     "name": "stdout",
     "output_type": "stream",
     "text": [
      "Multiplication: [ 6 14 24 36 50]\n"
     ]
    }
   ],
   "source": [
    "print(\"Multiplication:\", result_mul)"
   ]
  },
  {
   "cell_type": "code",
   "execution_count": 47,
   "id": "f5530a4b-61b3-4c11-abae-51e614fd5c40",
   "metadata": {},
   "outputs": [
    {
     "name": "stdout",
     "output_type": "stream",
     "text": [
      "Division: [0.16666667 0.28571429 0.375      0.44444444 0.5       ]\n"
     ]
    }
   ],
   "source": [
    "print(\"Division:\", result_div)"
   ]
  },
  {
   "cell_type": "markdown",
   "id": "c06a2022-803c-4fe9-91d3-a113009e30a9",
   "metadata": {},
   "source": [
    "### Finding Indices Of Non-Zero Elements With Np.Nonzero()\n",
    "In NumPy, the np.nonzero() function is used to find the indices of non-zero elements in an array. This function returns a tuple of arrays, one for each dimension of the input, containing the indices of the non-zero elements.\n",
    "\n",
    "Here’s an example:"
   ]
  },
  {
   "cell_type": "code",
   "execution_count": 50,
   "id": "e4705e11-e571-46f0-9c58-a1491459b69e",
   "metadata": {},
   "outputs": [
    {
     "name": "stdout",
     "output_type": "stream",
     "text": [
      "(array([0, 2, 4, 6, 7]),)\n"
     ]
    }
   ],
   "source": [
    "import numpy as np\n",
    "\n",
    "# Define an array\n",
    "array = np.array([1, 0, 2, 0, 3, 0, 4, 5])\n",
    "\n",
    "# Get the indices of non-zero elements\n",
    "indices = np.nonzero(array)\n",
    "\n",
    "print(indices)\n"
   ]
  },
  {
   "cell_type": "markdown",
   "id": "5db47866-ce4a-4f56-967f-2c63da0ce880",
   "metadata": {},
   "source": [
    "### In the case of multi-dimensional arrays, a separate array is returned for each dimension."
   ]
  },
  {
   "cell_type": "code",
   "execution_count": 51,
   "id": "4cde0162-ba11-44cb-829a-99dd2bcdb6d3",
   "metadata": {},
   "outputs": [
    {
     "name": "stdout",
     "output_type": "stream",
     "text": [
      "(array([0, 1, 1, 2]), array([1, 0, 2, 1]))\n"
     ]
    }
   ],
   "source": [
    "# Define a 2D array\n",
    "array2D = np.array([[0, 1, 0], [2, 0, 3], [0, 4, 0]])\n",
    "\n",
    "# Get the indices of non-zero elements\n",
    "indices2D = np.nonzero(array2D)\n",
    "\n",
    "print(indices2D)"
   ]
  },
  {
   "cell_type": "markdown",
   "id": "d2fe18f2-8678-412c-8bda-6116fe23dab6",
   "metadata": {},
   "source": [
    "### Understanding Bincount And Recreating An Array Based On Bincount Using Np.Repeat()\n",
    "NumPy’s np.bincount() function counts the occurrence of each value in an array of non-negative integers. The resulting output has one position for each value that appears in the original array, even if some values don’t appear.\n",
    "\n"
   ]
  },
  {
   "cell_type": "code",
   "execution_count": 52,
   "id": "9f9cbf49-e914-4ece-8b29-f4d68071472b",
   "metadata": {},
   "outputs": [
    {
     "name": "stdout",
     "output_type": "stream",
     "text": [
      "[1 0 2 0 0 1 1]\n"
     ]
    }
   ],
   "source": [
    "# Define an array\n",
    "array = np.array([0, 2, 2, 6, 5])\n",
    "\n",
    "# Use bincount\n",
    "count = np.bincount(array)\n",
    "\n",
    "print(count)"
   ]
  },
  {
   "cell_type": "markdown",
   "id": "3b235758-4c94-48c3-a0b9-7aecb0651264",
   "metadata": {},
   "source": [
    "### In this output, the first value 0 signifies that 0 appears once in the array, the second value 0 signifies that 1 appears zero times in the array, and so on.\n",
    "\n",
    "You can use np.repeat() with the results of np.bincount() to reconstruct the original array:"
   ]
  },
  {
   "cell_type": "code",
   "execution_count": 53,
   "id": "7aaa0c69-8d98-4424-a2d3-1fe1434fb52c",
   "metadata": {},
   "outputs": [
    {
     "name": "stdout",
     "output_type": "stream",
     "text": [
      "[0 2 2 5 6]\n"
     ]
    }
   ],
   "source": [
    "# Recreate the original array\n",
    "recreated_array = np.repeat(np.arange(len(count)), count)\n",
    "\n",
    "print(recreated_array)"
   ]
  },
  {
   "cell_type": "code",
   "execution_count": null,
   "id": "33f83d5c-aa3f-4145-9c43-cd8dce417b03",
   "metadata": {},
   "outputs": [],
   "source": []
  }
 ],
 "metadata": {
  "kernelspec": {
   "display_name": "Python 3 (ipykernel)",
   "language": "python",
   "name": "python3"
  },
  "language_info": {
   "codemirror_mode": {
    "name": "ipython",
    "version": 3
   },
   "file_extension": ".py",
   "mimetype": "text/x-python",
   "name": "python",
   "nbconvert_exporter": "python",
   "pygments_lexer": "ipython3",
   "version": "3.11.4"
  }
 },
 "nbformat": 4,
 "nbformat_minor": 5
}
